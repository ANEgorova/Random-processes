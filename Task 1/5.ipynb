{
 "cells": [
  {
   "cell_type": "markdown",
   "metadata": {},
   "source": [
    "### Task 1"
   ]
  },
  {
   "cell_type": "code",
   "execution_count": 2,
   "metadata": {
    "collapsed": false
   },
   "outputs": [],
   "source": [
    "from BranchingProcess import Person, BranchingProcess, read_from_files"
   ]
  },
  {
   "cell_type": "code",
   "execution_count": 3,
   "metadata": {
    "collapsed": false,
    "scrolled": false
   },
   "outputs": [
    {
     "name": "stdout",
     "output_type": "stream",
     "text": [
      "Количество родословных =  76199\n"
     ]
    }
   ],
   "source": [
    "# Считали, вывели количество родословных\n",
    "processes = read_from_files(['N.txt', 'K.txt', 'T.txt', 'W.txt', 'C.txt',\\\n",
    "                             'Q.txt', 'L.txt', 'F.txt', 'J.txt', 'P.txt'])\n",
    "print('Количество родословных = ', len(processes))"
   ]
  },
  {
   "cell_type": "code",
   "execution_count": 4,
   "metadata": {
    "collapsed": false,
    "scrolled": false
   },
   "outputs": [
    {
     "name": "stdout",
     "output_type": "stream",
     "text": [
      "Количество родословных после удаления ненужных экземпляров =  8789\n"
     ]
    }
   ],
   "source": [
    "# Поработаем с данными. Уберем людей, которые не подходят заданию, женщины. \n",
    "# Также удалим пустые процессы, которые остаются, если удалить по 1 человеку в поколении.\n",
    "# Посчитали теперь количество родословных после чистки\n",
    "\n",
    "i = 0\n",
    "j = 0\n",
    "k = 0\n",
    "good_people = []\n",
    "while (i < len(processes)):\n",
    "    j = 0\n",
    "    while (j < len(processes[i].generations)):\n",
    "        k = 0\n",
    "        while (k < len(processes[i].generations[j])):\n",
    "            if (processes[i].generations[j][k].name[1] == '-') \\\n",
    "            or (processes[i].generations[j][k].deathdate == '') \\\n",
    "            or (processes[i].generations[j][k].birthday == '') \\\n",
    "            or (int(processes[i].generations[j][k].birthday[:4]) > 1950) \\\n",
    "            or (processes[i].generations[j][k].gender == 'female')\\\n",
    "            or (processes[i].generations[j][k].gender == 'unknown'):\n",
    "                good_people.append(processes[i].generations[j][k].name)\n",
    "                del processes[i].generations[j][k]\n",
    "            else:\n",
    "                k += 1\n",
    "        j += 1\n",
    "    i += 1\n",
    "\n",
    "# Delet empty generations (happened when delete sole man in generations)   \n",
    "i = 0\n",
    "j = 0\n",
    "while (i < len(processes)):\n",
    "    j = 0\n",
    "    while (j < len(processes[i].generations)):\n",
    "        if (processes[i].generations[j] == []):\n",
    "            del processes[i].generations[j]\n",
    "        else:\n",
    "            j += 1\n",
    "    i += 1\n",
    "    \n",
    "# Delete processes consisting of 1 generation\n",
    "i = 0\n",
    "while (i < len(processes)):\n",
    "    if (len(processes[i].generations) == 1) or (len(processes[i].generations) == 0):\n",
    "        del processes[i]\n",
    "    else:\n",
    "        i += 1\n",
    "\n",
    "print('Количество родословных после удаления ненужных экземпляров = ', len(processes))"
   ]
  },
  {
   "cell_type": "code",
   "execution_count": 5,
   "metadata": {
    "collapsed": false
   },
   "outputs": [],
   "source": [
    "# Здесь удаляем детей, которые были удалены из общего списка\n",
    "good_people = set(good_people)\n",
    "for i in range (0, len(processes)):\n",
    "    for j in range (0, len(processes[i].generations)):\n",
    "        for k in range (0, len(processes[i].generations[j])):\n",
    "            for l in processes[i].generations[j][k].children:\n",
    "                if (l in good_people):\n",
    "                    processes[i].generations[j][k].children.remove(l)"
   ]
  },
  {
   "cell_type": "markdown",
   "metadata": {
    "collapsed": true
   },
   "source": [
    "### Task 2"
   ]
  },
  {
   "cell_type": "code",
   "execution_count": 6,
   "metadata": {
    "collapsed": false
   },
   "outputs": [
    {
     "name": "stdout",
     "output_type": "stream",
     "text": [
      "Maximum number of generations in the family:  53\n",
      "Minimum number of generations in the family:  2\n",
      "Average number of generations in the family: 3.49\n"
     ]
    },
    {
     "data": {
      "image/png": "[encoded data removed]",
      "text/plain": [
       "<matplotlib.figure.Figure at 0x7f89f81d70b8>"
      ]
     },
     "metadata": {},
     "output_type": "display_data"
    }
   ],
   "source": [
    "# Здесь мы считаем минимальное, максимальное и среднее число поколений в роду\n",
    "\n",
    "import numpy as np\n",
    "import matplotlib.pyplot as plt\n",
    "%matplotlib inline\n",
    "\n",
    "\n",
    "x = list(map(lambda f: len(f.generations), processes))\n",
    "max_gen_number = np.max(x)\n",
    "min_gen_number = np.min(x)\n",
    "average = np.mean(x)\n",
    "y = [x.count(i) for i in range(1, 20)]\n",
    "print(\"Maximum number of generations in the family: \", max_gen_number)\n",
    "print(\"Minimum number of generations in the family: \", min_gen_number)\n",
    "print(\"Average number of generations in the family: {:.2f}\".format(average))\n",
    "plt.bar(range(1, 20), y, width=1, color='g')\n",
    "plt.show()"
   ]
  },
  {
   "cell_type": "code",
   "execution_count": 7,
   "metadata": {
    "collapsed": false
   },
   "outputs": [
    {
     "name": "stdout",
     "output_type": "stream",
     "text": [
      "Max_age:  825 Year:  1190\n",
      "Min_age:  -1728 Year:  1894\n",
      "Average life duration: 58.13\n"
     ]
    },
    {
     "data": {
      "image/png": "[encoded data removed]",
      "text/plain": [
       "<matplotlib.figure.Figure at 0x7f89f837eb70>"
      ]
     },
     "metadata": {},
     "output_type": "display_data"
    }
   ],
   "source": [
    "#  The oldest and the youngest man who has ever lived\n",
    "#  Average life Duration\n",
    "\n",
    "sum_life_duration = 0\n",
    "year_max_age = 0\n",
    "max_age = 0\n",
    "year_min_age = 0\n",
    "min_age = 1000\n",
    "all_people = 0\n",
    "age = 0\n",
    "x_year = []\n",
    "for i in range (len(processes)):\n",
    "    for j in range (len(processes[i].generations)):\n",
    "        for k in range (len(processes[i].generations[j])):\n",
    "            age = (int(processes[i].generations[j][k].deathdate[:4]) - \\\n",
    "                   int(processes[i].generations[j][k].birthday[:4]))\n",
    "            sum_life_duration += age\n",
    "            all_people += 1\n",
    "            x_year.append(int(processes[i].generations[j][k].birthday[:4]))\n",
    "            if (age > max_age):\n",
    "                max_age = age\n",
    "                year_max_age = int(processes[i].generations[j][k].birthday[:4])\n",
    "            if (age < min_age):\n",
    "                min_age = age\n",
    "                year_min_age = int(processes[i].generations[j][k].birthday[:4])\n",
    "print(\"Max_age: \", max_age, \"Year: \", year_max_age)\n",
    "print(\"Min_age: \", min_age, \"Year: \", year_min_age)\n",
    "print(\"Average life duration: {:.2f}\".format(sum_life_duration / all_people))\n",
    "y_year = np.zeros(len(x_year))\n",
    "fig = plt.figure(figsize=(18,5))\n",
    "plt.scatter(x_year, y_year, alpha=0.2, s=100, c='g')\n",
    "plt.show()"
   ]
  },
  {
   "cell_type": "code",
   "execution_count": 9,
   "metadata": {
    "collapsed": false
   },
   "outputs": [
    {
     "name": "stdout",
     "output_type": "stream",
     "text": [
      "Nabors-259\tmale\t1894-Mar-01\t0166-Apr-01\tNabors-248;Gray-13132\tNabors-136;Nabors-267;Nabors-246;Nabors-264;Nabors-262;Nabors-261;Nabors-260;Nabors-266;Nabors-268;Nabors-263\t\t\n"
     ]
    }
   ],
   "source": [
    "# Выведем человека с такой замечательной продолжительностью жизни:\n",
    "print((processes[41].generations[1][6]))\n",
    "# Я буду считать, что это просто опечатка и оставлю его.\n",
    "# Аналогично максимальное число. Я же не могу у всех такое отследить..."
   ]
  },
  {
   "cell_type": "markdown",
   "metadata": {},
   "source": [
    "### Task 3\n",
    "Выбираю предложенный базовый вариант: пуассоновское распределение.    \n",
    "Оценка максимального правдоподобия для пуассоновского распределения: $\\lambda = \\overline{X}$    \n",
    "Тогда, как и описано там, я считаю $\\lambda$ и набор $[\\lambda_i]$"
   ]
  },
  {
   "cell_type": "code",
   "execution_count": 10,
   "metadata": {
    "collapsed": false
   },
   "outputs": [
    {
     "name": "stdout",
     "output_type": "stream",
     "text": [
      "lambda =  2.02461504035\n",
      "[lambda_i] =  [2.0625, 2.3333333333333335, 11.0, 1.0, 1.6666666666666667, 2.0, 1.0, 4.0, 1.9411764705882353, 1.1666666666666667]\n"
     ]
    }
   ],
   "source": [
    "# Считает количество всего людей в определенном процессе\n",
    "def children_amout(process):\n",
    "    sum_children = 0\n",
    "    for i in range(0, len(process.generations) - 1):\n",
    "        for j in range (0, len(process.generations[i])):\n",
    "            sum_children +=  len(process.generations[i][j].children)\n",
    "    return sum_children\n",
    "\n",
    "# Считает количество отцов\n",
    "def generations_amount(process):\n",
    "    sum_fathers = 0\n",
    "    for i in range(0, len(process.generations) - 1):\n",
    "        sum_fathers += len(process.generations[i])\n",
    "    return sum_fathers\n",
    "\n",
    "total_children_amount = np.sum(list(map(lambda x: children_amout(x), processes)))\n",
    "total_generations_amount = np.sum(list(map(lambda x: generations_amount(x), processes)))\n",
    "lambda_1 = total_children_amount / total_generations_amount\n",
    "\n",
    "lambda_2 = [(children_amout(x) / generations_amount(x)) for x in processes]\n",
    "print(\"lambda = \", lambda_1)\n",
    "print(\"[lambda_i] = \", lambda_2[:10])"
   ]
  },
  {
   "cell_type": "code",
   "execution_count": 11,
   "metadata": {
    "collapsed": false
   },
   "outputs": [
    {
     "data": {
      "image/png": "[encoded data removed]",
      "text/plain": [
       "<matplotlib.figure.Figure at 0x7f89f8387eb8>"
      ]
     },
     "metadata": {},
     "output_type": "display_data"
    }
   ],
   "source": [
    "import scipy.stats as sc\n",
    "# Сторим график: количество людей с таким количеством детей\n",
    "\n",
    "singly_children_amount = []\n",
    "for l in range(0, len(processes)):\n",
    "    for i in range(0, len(processes[l].generations) - 1):\n",
    "        for j in range (0, len(processes[l].generations[i])):\n",
    "            singly_children_amount.append(len(processes[l].generations[i][j].children))\n",
    "                  \n",
    "plt.bar(range(len(np.bincount(singly_children_amount))), np.bincount(singly_children_amount), color = 'b')\n",
    "plt.show()"
   ]
  },
  {
   "cell_type": "code",
   "execution_count": 12,
   "metadata": {
    "collapsed": false
   },
   "outputs": [
    {
     "data": {
      "text/plain": [
       "Power_divergenceResult(statistic=2921043612828.7578, pvalue=0.0)"
      ]
     },
     "execution_count": 12,
     "metadata": {},
     "output_type": "execute_result"
    }
   ],
   "source": [
    "# C помощью хи-квадрат смотрим, действительно ли это пуассоновское распределение\n",
    "# Но видим, что pvalue = 0, значит, не пуассоновское. \n",
    "import scipy.stats as sc \n",
    "f_exp = [len(singly_children_amount) * sc.poisson.pmf(x, lambda_1)\\\n",
    "                       for x in range(min(singly_children_amount), max(singly_children_amount) + 1)]\n",
    "f_obs = np.bincount(singly_children_amount)\n",
    "sc.chisquare(f_obs, f_exp, ddof=1)"
   ]
  },
  {
   "cell_type": "markdown",
   "metadata": {
    "collapsed": false
   },
   "source": [
    "### Task 4    \n",
    "В одном поколении примерно $\\mu ^ n$ детей. Значит, дойти до единого предка мы сможем за $log_{\\mu}n$    \n",
    "Посчитаю, за сколько шагов я смогла приблизиться к предку, сравню, за сколько должна была теоретически."
   ]
  },
  {
   "cell_type": "code",
   "execution_count": 13,
   "metadata": {
    "collapsed": false
   },
   "outputs": [
    {
     "name": "stdout",
     "output_type": "stream",
     "text": [
      "Экспериментально дошла за  13\n",
      "Теоретически должна за  12.874282853517583\n",
      "Значения близки, значит, все верно. Дойти до общего предка получилось.\n"
     ]
    }
   ],
   "source": [
    "# Моделируем процесс назад\n",
    "generations_amount = 0\n",
    "random_value = 0\n",
    "size_generation = len(processes)\n",
    "parents = 0\n",
    "while (parents != 1):\n",
    "    parents = 0\n",
    "    while (size_generation > 0):\n",
    "        random_value = np.random.poisson(lambda_1, 1)\n",
    "        size_generation -= random_value\n",
    "        parents += 1\n",
    "    size_generation = parents\n",
    "    generations_amount += 1\n",
    "        \n",
    "print(\"Экспериментально дошла за \", generations_amount)\n",
    "import math\n",
    "print(\"Теоретически должна за \",math.log(len(processes), lambda_1))\n",
    "print(\"Значения близки, значит, все верно. Дойти до общего предка получилось.\")"
   ]
  },
  {
   "cell_type": "markdown",
   "metadata": {},
   "source": [
    "### Task 5    \n",
    "Моделирую процесс вперед. Считаю, что будет через 100, 200, 300, 400 лет. Построила графики, если у меня 1 общий процесс. Поколение достаточно быстро растет.    \n",
    "Также построила график зависимости количества процессов. Видим, что некоторые процессы все же вырождаются. И их даже достаточно большое количество."
   ]
  },
  {
   "cell_type": "code",
   "execution_count": 19,
   "metadata": {
    "collapsed": false
   },
   "outputs": [
    {
     "data": {
      "image/png": "[encoded data removed]",
      "text/plain": [
       "<matplotlib.figure.Figure at 0x7f89f90251d0>"
      ]
     },
     "metadata": {},
     "output_type": "display_data"
    },
    {
     "data": {
      "image/png": "[encoded data removed]",
      "text/plain": [
       "<matplotlib.figure.Figure at 0x7f89f91ecef0>"
      ]
     },
     "metadata": {},
     "output_type": "display_data"
    }
   ],
   "source": [
    "def generate_generation(lam, years, children_last_generation):\n",
    "    for i in range(0, years // 25):  \n",
    "        z = np.sum(np.random.poisson(lam, children_last_generation))\n",
    "        children_last_generation = np.sum(z)\n",
    "    return children_last_generation, int(children_last_generation == 0)\n",
    "# Считаю, сколько процессов убилось!\n",
    "  \n",
    "y_man = np.zeros(4)\n",
    "process_amount = np.zeros(4)\n",
    "\n",
    "\n",
    "# Считать для процессов по-отдельности. Но я не знаю, как нарисовать графики\n",
    "# для такого большого количетсва процессов\n",
    "\n",
    "# Считаем, что будет через 400 лет.\n",
    "for k in range (0, 400, 100):\n",
    "    tmp = [generate_generation(lambda_1, k, \\\n",
    "                                          len(processes[j].generations[len(processes[j].generations) - 1]))\\\n",
    "                      for j in range (0, len(processes))]\n",
    "    y_man[k // 100] = np.sum([tmp[i][0] for i in range (0, len(tmp))])\n",
    "    process_amount[k // 100] = abs(len(processes) - np.sum([tmp[i][1] for i in range (0, len(tmp))]))\n",
    "\n",
    "x_man = np.arange(4)\n",
    "plt.plot(x_man, y_man, c='g', label=\"Generations\")\n",
    "plt.legend()\n",
    "plt.show()\n",
    "\n",
    "plt.plot(x_man, process_amount, label=\"Processes\")\n",
    "plt.legend()\n",
    "plt.show()\n",
    "\n"
   ]
  },
  {
   "cell_type": "markdown",
   "metadata": {},
   "source": [
    "### Task 6    \n",
    "Выведем, чему же равна у нас производящая функция и посчитаем результат.\n",
    "$ \\varphi_{\\xi}(z) = Ez^{\\xi} = \\sum\\limits_{k = 0}^{\\infty}P(\\xi = k) \\cdot z^k = \\sum\\limits_{k = 0}^{\\infty} \\frac{e^{-\\lambda}\\lambda^k}{k!} \\cdot z^k = e^{-\\lambda} \\cdot \\sum\\limits_{k = 0}^{\\infty} \\frac{\\lambda^k z^k}{k!} = e^{-\\lambda} \\cdot \\sum\\limits_{k = 0}^{\\infty} \\frac{(\\lambda z)^k}{k!} = e^{-\\lambda} \\cdot e^{\\lambda z} = e^{\\lambda(z-1)}$    \n",
    "Теперь, чтобы найти вероятность вырождения надо решить такое уравнение:    \n",
    "$q = \\varphi_{\\xi}(q)$, или $e^{\\lambda(q-1)} = q$"
   ]
  },
  {
   "cell_type": "code",
   "execution_count": 29,
   "metadata": {
    "collapsed": false
   },
   "outputs": [
    {
     "name": "stdout",
     "output_type": "stream",
     "text": [
      "Вероятность вырождения для общего закона =  0.196602726435\n"
     ]
    },
    {
     "ename": "KeyboardInterrupt",
     "evalue": "",
     "output_type": "error",
     "traceback": [
      "\u001b[0;31m---------------------------------------------------------------------------\u001b[0m",
      "\u001b[0;31mKeyboardInterrupt\u001b[0m                         Traceback (most recent call last)",
      "\u001b[0;32m<ipython-input-29-406b5bdd836c>\u001b[0m in \u001b[0;36m<module>\u001b[0;34m()\u001b[0m\n\u001b[1;32m     13\u001b[0m \u001b[0;32mfor\u001b[0m \u001b[0mi\u001b[0m \u001b[0;32min\u001b[0m \u001b[0mlambda_2\u001b[0m\u001b[0;34m:\u001b[0m\u001b[0;34m\u001b[0m\u001b[0m\n\u001b[1;32m     14\u001b[0m     \u001b[0mresults\u001b[0m\u001b[0;34m.\u001b[0m\u001b[0mappend\u001b[0m\u001b[0;34m(\u001b[0m\u001b[0mprobability_degeneration\u001b[0m\u001b[0;34m(\u001b[0m\u001b[0mi\u001b[0m\u001b[0;34m)\u001b[0m\u001b[0;34m)\u001b[0m\u001b[0;34m\u001b[0m\u001b[0m\n\u001b[0;32m---> 15\u001b[0;31m     \u001b[0;32mif\u001b[0m \u001b[0;34m(\u001b[0m\u001b[0mprobability_degeneration\u001b[0m\u001b[0;34m(\u001b[0m\u001b[0mi\u001b[0m\u001b[0;34m)\u001b[0m \u001b[0;34m<\u001b[0m \u001b[0;36m0.5\u001b[0m\u001b[0;34m)\u001b[0m\u001b[0;34m:\u001b[0m\u001b[0;34m\u001b[0m\u001b[0m\n\u001b[0m\u001b[1;32m     16\u001b[0m         \u001b[0mamount\u001b[0m \u001b[0;34m+=\u001b[0m \u001b[0;36m1\u001b[0m\u001b[0;34m\u001b[0m\u001b[0m\n\u001b[1;32m     17\u001b[0m \u001b[0;34m\u001b[0m\u001b[0m\n",
      "\u001b[0;32m<ipython-input-22-45c7a48cb141>\u001b[0m in \u001b[0;36mprobability_degeneration\u001b[0;34m(lam)\u001b[0m\n\u001b[1;32m      3\u001b[0m \u001b[0;32mdef\u001b[0m \u001b[0mprobability_degeneration\u001b[0m\u001b[0;34m(\u001b[0m\u001b[0mlam\u001b[0m\u001b[0;34m)\u001b[0m\u001b[0;34m:\u001b[0m\u001b[0;34m\u001b[0m\u001b[0m\n\u001b[1;32m      4\u001b[0m     \u001b[0;32mfor\u001b[0m \u001b[0mi\u001b[0m \u001b[0;32min\u001b[0m \u001b[0mx\u001b[0m\u001b[0;34m:\u001b[0m\u001b[0;34m\u001b[0m\u001b[0m\n\u001b[0;32m----> 5\u001b[0;31m         \u001b[0;32mif\u001b[0m \u001b[0;34m(\u001b[0m\u001b[0mabs\u001b[0m\u001b[0;34m(\u001b[0m\u001b[0mlam\u001b[0m \u001b[0;34m*\u001b[0m \u001b[0;34m(\u001b[0m\u001b[0mi\u001b[0m \u001b[0;34m-\u001b[0m \u001b[0;36m1\u001b[0m\u001b[0;34m)\u001b[0m \u001b[0;34m-\u001b[0m \u001b[0mmath\u001b[0m\u001b[0;34m.\u001b[0m\u001b[0mlog\u001b[0m\u001b[0;34m(\u001b[0m\u001b[0mi\u001b[0m\u001b[0;34m)\u001b[0m\u001b[0;34m)\u001b[0m \u001b[0;34m<\u001b[0m \u001b[0;36m0.0001\u001b[0m\u001b[0;34m)\u001b[0m\u001b[0;34m:\u001b[0m\u001b[0;34m\u001b[0m\u001b[0m\n\u001b[0m\u001b[1;32m      6\u001b[0m             \u001b[0;32mreturn\u001b[0m \u001b[0mi\u001b[0m\u001b[0;34m\u001b[0m\u001b[0m\n\u001b[1;32m      7\u001b[0m \u001b[0;34m\u001b[0m\u001b[0m\n",
      "\u001b[0;31mKeyboardInterrupt\u001b[0m: "
     ]
    }
   ],
   "source": [
    "import scipy\n",
    "\n",
    "def f(x, lm):\n",
    "    return x-math.e ** (lm * (x-1))\n",
    "\n",
    "     \n",
    "# General act of degeneration\n",
    "print(\"Вероятность вырождения для общего закона = \", scipy.optimize.root(lambda x: f(x, lambda_1), 0).x[0])\n",
    "\n",
    "# Separately\n",
    "amount = 0\n",
    "results = []\n",
    "for i in lambda_2:\n",
    "    results.append(scipy.optimize.root(lambda x: f(x, i), 0).x[0])\n",
    "    if ( < 0.5):\n",
    "        amount += 1\n",
    "\n",
    "print(\"Доля процессов, в которых вероятность вырождения < 0.5 = {:.2f}\".format(amount / len(lambda_2)))\n",
    "y1 = np.zeros(len(results))\n",
    "fig = plt.figure(figsize=(15,5))\n",
    "plt.scatter(results, y1, alpha=0.2, s=100, c='g')\n",
    "plt.show()"
   ]
  },
  {
   "cell_type": "markdown",
   "metadata": {
    "collapsed": true
   },
   "source": [
    "Итог: Фамилии все-таки вырождаются. Но не так быстро.\n"
   ]
  },
  {
   "cell_type": "code",
   "execution_count": 28,
   "metadata": {
    "collapsed": false
   },
   "outputs": [
    {
     "data": {
      "text/plain": [
       "0.19660272643508975"
      ]
     },
     "execution_count": 28,
     "metadata": {},
     "output_type": "execute_result"
    }
   ],
   "source": [
    "\n"
   ]
  },
  {
   "cell_type": "code",
   "execution_count": null,
   "metadata": {
    "collapsed": true
   },
   "outputs": [],
   "source": []
  }
 ],
 "metadata": {
  "kernelspec": {
   "display_name": "Python 3",
   "language": "python",
   "name": "python3"
  },
  "language_info": {
   "codemirror_mode": {
    "name": "ipython",
    "version": 3
   },
   "file_extension": ".py",
   "mimetype": "text/x-python",
   "name": "python",
   "nbconvert_exporter": "python",
   "pygments_lexer": "ipython3",
   "version": "3.5.2"
  }
 },
 "nbformat": 4,
 "nbformat_minor": 1
}
